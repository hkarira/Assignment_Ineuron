{
 "cells": [
  {
   "cell_type": "code",
   "execution_count": 21,
   "metadata": {},
   "outputs": [
    {
     "name": "stdout",
     "output_type": "stream",
     "text": [
      "Enter the length a: 6\n",
      "Enter the length b: 8\n",
      "Enter the length c: 10\n",
      "To calculate the area make use of funcion in parent class\n",
      "24.0\n"
     ]
    }
   ],
   "source": [
    "class Area:\n",
    "    def __init__(self):\n",
    "        self.a = int(input(\"Enter the length a: \"))\n",
    "        self.b = int(input(\"Enter the length b: \"))\n",
    "        self.c = int(input(\"Enter the length c: \"))\n",
    "        print(\"To calculate the area make use of funcion in parent class\")\n",
    "        \n",
    "class Areabase(Area):\n",
    "    def __init__(self):\n",
    "        super().__init__()\n",
    "    def area_calc(self):\n",
    "        self.s = (self.a + self.b + self.c)/2\n",
    "        return (self.s*(self.s-self.a)*(self.s-self.b)*(self.s-self.c)) ** 0.5\n",
    "        \n",
    "a = Areabase()\n",
    "print(a.area_calc())"
   ]
  },
  {
   "cell_type": "code",
   "execution_count": 36,
   "metadata": {},
   "outputs": [
    {
     "name": "stdout",
     "output_type": "stream",
     "text": [
      "['areajslansla', 'hsaohsoaspa', 'saksahsoash', 'hsiahsoahs', 'joausiqwkslas', 'sasak', 'posasas']\n"
     ]
    }
   ],
   "source": [
    "listofwords = [\"asa\", \"ss\", \"areajslansla\", \"ass\",\n",
    "               \"hsaohsoaspa\", \"saksahsoash\", \"hsiahsoahs\",\n",
    "               \"joausiqwkslas\", \"sasak\", \"posasas\", \"shjs\"]\n",
    "number = 5\n",
    "\n",
    "def filter_long_words(listofwords, number):\n",
    "    a = list(filter(lambda x: len(x) >= number, listofwords))\n",
    "    return a\n",
    "\n",
    "print(filter_long_words(listofwords, number))"
   ]
  },
  {
   "cell_type": "code",
   "execution_count": 37,
   "metadata": {},
   "outputs": [
    {
     "name": "stdout",
     "output_type": "stream",
     "text": [
      "[3, 2, 12, 3, 11, 11, 10, 13, 5, 7, 4]\n"
     ]
    }
   ],
   "source": [
    "def maplisttolength(listofwords):\n",
    "    a = list(map(len, listofwords))\n",
    "    return a\n",
    "print(maplisttolength(listofwords))"
   ]
  },
  {
   "cell_type": "code",
   "execution_count": 39,
   "metadata": {},
   "outputs": [
    {
     "name": "stdout",
     "output_type": "stream",
     "text": [
      "True\n",
      "False\n",
      "False\n",
      "False\n",
      "True\n"
     ]
    }
   ],
   "source": [
    "def vowelornot(character):\n",
    "    if character in \"aeiouAEIOU\":\n",
    "        return True\n",
    "    else:\n",
    "        return False\n",
    "print(vowelornot('A'))\n",
    "print(vowelornot('B'))\n",
    "print(vowelornot('C'))\n",
    "print(vowelornot('D'))\n",
    "print(vowelornot('e'))"
   ]
  },
  {
   "cell_type": "code",
   "execution_count": null,
   "metadata": {},
   "outputs": [],
   "source": []
  }
 ],
 "metadata": {
  "kernelspec": {
   "display_name": "Python 3",
   "language": "python",
   "name": "python3"
  },
  "language_info": {
   "codemirror_mode": {
    "name": "ipython",
    "version": 3
   },
   "file_extension": ".py",
   "mimetype": "text/x-python",
   "name": "python",
   "nbconvert_exporter": "python",
   "pygments_lexer": "ipython3",
   "version": "3.7.6"
  }
 },
 "nbformat": 4,
 "nbformat_minor": 4
}
