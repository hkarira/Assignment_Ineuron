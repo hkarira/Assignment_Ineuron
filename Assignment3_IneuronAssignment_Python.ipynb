{
 "cells": [
  {
   "cell_type": "code",
   "execution_count": 99,
   "metadata": {},
   "outputs": [
    {
     "name": "stdout",
     "output_type": "stream",
     "text": [
      "[]\n",
      "[]\n",
      "[]\n",
      "[45]\n"
     ]
    }
   ],
   "source": [
    "def myfilter(func, mylist):\n",
    "    if len(mylist) == 0:\n",
    "        return mylist\n",
    "    else:\n",
    "        for i in range(len(mylist) - 1, -1, -1):\n",
    "            if func(mylist[i]) == False:\n",
    "                del mylist[i]\n",
    "    return mylist\n",
    "\n",
    "def func(num):\n",
    "    if num > 18:\n",
    "        return True\n",
    "    else:\n",
    "        return False\n",
    "\n",
    "print(myfilter(func, []))\n",
    "print(myfilter(func, [1]))\n",
    "print(myfilter(func, [1, 2]))\n",
    "print(myfilter(func, [1, 2, 3, 45]))"
   ]
  },
  {
   "cell_type": "code",
   "execution_count": 58,
   "metadata": {},
   "outputs": [
    {
     "name": "stdout",
     "output_type": "stream",
     "text": [
      "6\n",
      "1\n",
      "30\n",
      "0\n",
      "0\n",
      "1\n",
      "0\n"
     ]
    }
   ],
   "source": [
    "def myreduce(func, mylist):\n",
    "    a = 1\n",
    "    if len(mylist) == 0:\n",
    "        return 0\n",
    "    else:\n",
    "        for item in mylist:\n",
    "            a = func(item, a)\n",
    "        return a\n",
    "    \n",
    "def func(x=1, y=1):\n",
    "    return x*y\n",
    "\n",
    "mylist = [1, 2, 3]\n",
    "\n",
    "print(myreduce(lambda x, y: x*y, mylist))\n",
    "print(myreduce(lambda x, y: x*y, [1]))\n",
    "print(myreduce(lambda x, y: x*y, [1, 2, 3, 5]))\n",
    "print(myreduce(lambda x, y: x*y, []))\n",
    "print(myreduce(lambda x, y: x*y, range(1, 1)))\n",
    "print(myreduce(lambda x, y: x*y, range(1, 2)))\n",
    "print(myreduce(lambda x, y: x*y, range(5)))\n"
   ]
  },
  {
   "cell_type": "code",
   "execution_count": 106,
   "metadata": {},
   "outputs": [],
   "source": [
    "x = [item*i for item in \"xyz\" for i in range(1, 5)]"
   ]
  },
  {
   "cell_type": "code",
   "execution_count": 107,
   "metadata": {},
   "outputs": [
    {
     "data": {
      "text/plain": [
       "['x', 'xx', 'xxx', 'xxxx', 'y', 'yy', 'yyy', 'yyyy', 'z', 'zz', 'zzz', 'zzzz']"
      ]
     },
     "execution_count": 107,
     "metadata": {},
     "output_type": "execute_result"
    }
   ],
   "source": [
    "x"
   ]
  },
  {
   "cell_type": "code",
   "execution_count": 110,
   "metadata": {},
   "outputs": [],
   "source": [
    "y = [item*i for i in range(1, 5) for item in \"xyz\"]"
   ]
  },
  {
   "cell_type": "code",
   "execution_count": 111,
   "metadata": {},
   "outputs": [
    {
     "data": {
      "text/plain": [
       "['x', 'y', 'z', 'xx', 'yy', 'zz', 'xxx', 'yyy', 'zzz', 'xxxx', 'yyyy', 'zzzz']"
      ]
     },
     "execution_count": 111,
     "metadata": {},
     "output_type": "execute_result"
    }
   ],
   "source": [
    "y"
   ]
  },
  {
   "cell_type": "code",
   "execution_count": 116,
   "metadata": {},
   "outputs": [],
   "source": [
    "z = [(j, i) for i in range(1, 4) for j in range(1, 4)]"
   ]
  },
  {
   "cell_type": "code",
   "execution_count": 117,
   "metadata": {},
   "outputs": [
    {
     "data": {
      "text/plain": [
       "[(1, 1), (2, 1), (3, 1), (1, 2), (2, 2), (3, 2), (1, 3), (2, 3), (3, 3)]"
      ]
     },
     "execution_count": 117,
     "metadata": {},
     "output_type": "execute_result"
    }
   ],
   "source": [
    "z"
   ]
  },
  {
   "cell_type": "code",
   "execution_count": null,
   "metadata": {},
   "outputs": [],
   "source": []
  }
 ],
 "metadata": {
  "kernelspec": {
   "display_name": "Python 3",
   "language": "python",
   "name": "python3"
  },
  "language_info": {
   "codemirror_mode": {
    "name": "ipython",
    "version": 3
   },
   "file_extension": ".py",
   "mimetype": "text/x-python",
   "name": "python",
   "nbconvert_exporter": "python",
   "pygments_lexer": "ipython3",
   "version": "3.7.6"
  }
 },
 "nbformat": 4,
 "nbformat_minor": 4
}
