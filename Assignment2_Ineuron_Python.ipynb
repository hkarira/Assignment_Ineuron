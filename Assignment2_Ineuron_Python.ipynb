{
 "cells": [
  {
   "cell_type": "code",
   "execution_count": 3,
   "metadata": {},
   "outputs": [
    {
     "name": "stdout",
     "output_type": "stream",
     "text": [
      "Please enter a name to be reversed: Harshit\n"
     ]
    },
    {
     "data": {
      "text/plain": [
       "'tihsraH'"
      ]
     },
     "execution_count": 3,
     "metadata": {},
     "output_type": "execute_result"
    }
   ],
   "source": [
    "def reverse(name):\n",
    "    name1 = list(name)\n",
    "    return \"\".join(name1[::-1])\n",
    "\n",
    "name = input(\"Please enter a name to be reversed: \")\n",
    "reverse(name)"
   ]
  },
  {
   "cell_type": "code",
   "execution_count": 31,
   "metadata": {},
   "outputs": [
    {
     "name": "stdout",
     "output_type": "stream",
     "text": [
      "Please enter a number: 5\n",
      "*\n",
      "**\n",
      "***\n",
      "****\n",
      "*****\n",
      "****\n",
      "***\n",
      "**\n",
      "*\n",
      "\n"
     ]
    }
   ],
   "source": [
    "def printpattern(num):\n",
    "    c = 0\n",
    "    for i in range(1, 2*num+1):\n",
    "        if i<=5:\n",
    "            for j in range(i):\n",
    "                print(\"*\", end='')\n",
    "        else:\n",
    "            c = c + 2\n",
    "            for j in range(i-c):\n",
    "                print(\"*\", end='')\n",
    "        print()\n",
    "\n",
    "num = int(input(\"Please enter a number: \"))\n",
    "printpattern(num)"
   ]
  },
  {
   "cell_type": "code",
   "execution_count": null,
   "metadata": {},
   "outputs": [],
   "source": []
  },
  {
   "cell_type": "code",
   "execution_count": null,
   "metadata": {},
   "outputs": [],
   "source": []
  }
 ],
 "metadata": {
  "kernelspec": {
   "display_name": "Python 3",
   "language": "python",
   "name": "python3"
  },
  "language_info": {
   "codemirror_mode": {
    "name": "ipython",
    "version": 3
   },
   "file_extension": ".py",
   "mimetype": "text/x-python",
   "name": "python",
   "nbconvert_exporter": "python",
   "pygments_lexer": "ipython3",
   "version": "3.7.6"
  }
 },
 "nbformat": 4,
 "nbformat_minor": 4
}
